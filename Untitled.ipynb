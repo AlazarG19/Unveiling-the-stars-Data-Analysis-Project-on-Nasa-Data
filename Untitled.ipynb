{
 "cells": [
  {
   "cell_type": "markdown",
   "id": "3e489d36",
   "metadata": {
    "deletable": false,
    "editable": false,
    "run_control": {
     "frozen": true
    }
   },
   "source": [
    "## Unveiling the Stars: An Exploratory Study on NASA Astronauts\n",
    "\n",
    "We are tasked with exploring the dataset about the  demographics, careers, and accomplishments of NASA astronauts.\n",
    "\n",
    "Using the latest tools and techniques in data analysis, you dissect the dataset, analysing astronauts' backgrounds, experiences, and missions. We will uncover patterns and trends that reveal the diverse tapestry ofabout NASA's astronaut corps, from their educational journeys to their military service and their remarkable achievements in space.\n"
   ]
  }
 ],
 "metadata": {
  "kernelspec": {
   "display_name": "Python 3 (ipykernel)",
   "language": "python",
   "name": "python3"
  },
  "language_info": {
   "codemirror_mode": {
    "name": "ipython",
    "version": 3
   },
   "file_extension": ".py",
   "mimetype": "text/x-python",
   "name": "python",
   "nbconvert_exporter": "python",
   "pygments_lexer": "ipython3",
   "version": "3.10.6"
  }
 },
 "nbformat": 4,
 "nbformat_minor": 5
}
